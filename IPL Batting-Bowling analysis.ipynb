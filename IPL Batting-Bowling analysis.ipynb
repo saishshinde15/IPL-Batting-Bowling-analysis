{
 "cells": [
  {
   "cell_type": "code",
   "execution_count": 1,
   "id": "05900bb1",
   "metadata": {},
   "outputs": [],
   "source": [
    "import numpy as np\n",
    "import pandas as pd\n",
    "import matplotlib.pyplot as plt\n",
    "import seaborn as sns\n",
    "%matplotlib inline"
   ]
  },
  {
   "cell_type": "code",
   "execution_count": 24,
   "id": "be2ba9e6",
   "metadata": {
    "scrolled": true
   },
   "outputs": [
    {
     "data": {
      "text/html": [
       "<div>\n",
       "<style scoped>\n",
       "    .dataframe tbody tr th:only-of-type {\n",
       "        vertical-align: middle;\n",
       "    }\n",
       "\n",
       "    .dataframe tbody tr th {\n",
       "        vertical-align: top;\n",
       "    }\n",
       "\n",
       "    .dataframe thead th {\n",
       "        text-align: right;\n",
       "    }\n",
       "</style>\n",
       "<table border=\"1\" class=\"dataframe\">\n",
       "  <thead>\n",
       "    <tr style=\"text-align: right;\">\n",
       "      <th></th>\n",
       "      <th>PLAYER</th>\n",
       "      <th>Mat.x</th>\n",
       "      <th>Inns.x</th>\n",
       "      <th>NO</th>\n",
       "      <th>Runs.x</th>\n",
       "      <th>HS</th>\n",
       "      <th>Avg.x</th>\n",
       "      <th>BF</th>\n",
       "      <th>SR.x</th>\n",
       "      <th>X100</th>\n",
       "      <th>X50</th>\n",
       "      <th>Ov</th>\n",
       "      <th>Runs.y</th>\n",
       "      <th>Wkts</th>\n",
       "      <th>Econ</th>\n",
       "      <th>X4w</th>\n",
       "      <th>X5w</th>\n",
       "    </tr>\n",
       "  </thead>\n",
       "  <tbody>\n",
       "    <tr>\n",
       "      <th>0</th>\n",
       "      <td>Aaron Finch</td>\n",
       "      <td>10</td>\n",
       "      <td>9</td>\n",
       "      <td>1</td>\n",
       "      <td>134</td>\n",
       "      <td>46</td>\n",
       "      <td>16.75</td>\n",
       "      <td>100</td>\n",
       "      <td>134.00</td>\n",
       "      <td>0</td>\n",
       "      <td>0</td>\n",
       "      <td>0.0</td>\n",
       "      <td>0</td>\n",
       "      <td>0</td>\n",
       "      <td>0.00</td>\n",
       "      <td>0</td>\n",
       "      <td>0</td>\n",
       "    </tr>\n",
       "    <tr>\n",
       "      <th>1</th>\n",
       "      <td>AB de Villiers</td>\n",
       "      <td>12</td>\n",
       "      <td>11</td>\n",
       "      <td>2</td>\n",
       "      <td>480</td>\n",
       "      <td>90</td>\n",
       "      <td>53.33</td>\n",
       "      <td>275</td>\n",
       "      <td>174.54</td>\n",
       "      <td>0</td>\n",
       "      <td>6</td>\n",
       "      <td>0.0</td>\n",
       "      <td>0</td>\n",
       "      <td>0</td>\n",
       "      <td>0.00</td>\n",
       "      <td>0</td>\n",
       "      <td>0</td>\n",
       "    </tr>\n",
       "    <tr>\n",
       "      <th>2</th>\n",
       "      <td>Abhishek Sharma</td>\n",
       "      <td>3</td>\n",
       "      <td>3</td>\n",
       "      <td>2</td>\n",
       "      <td>63</td>\n",
       "      <td>46</td>\n",
       "      <td>63</td>\n",
       "      <td>33</td>\n",
       "      <td>190.90</td>\n",
       "      <td>0</td>\n",
       "      <td>0</td>\n",
       "      <td>0.0</td>\n",
       "      <td>0</td>\n",
       "      <td>0</td>\n",
       "      <td>0.00</td>\n",
       "      <td>0</td>\n",
       "      <td>0</td>\n",
       "    </tr>\n",
       "    <tr>\n",
       "      <th>3</th>\n",
       "      <td>Ajinkya Rahane</td>\n",
       "      <td>15</td>\n",
       "      <td>14</td>\n",
       "      <td>1</td>\n",
       "      <td>370</td>\n",
       "      <td>65</td>\n",
       "      <td>28.46</td>\n",
       "      <td>313</td>\n",
       "      <td>118.21</td>\n",
       "      <td>0</td>\n",
       "      <td>1</td>\n",
       "      <td>0.0</td>\n",
       "      <td>0</td>\n",
       "      <td>0</td>\n",
       "      <td>0.00</td>\n",
       "      <td>0</td>\n",
       "      <td>0</td>\n",
       "    </tr>\n",
       "    <tr>\n",
       "      <th>4</th>\n",
       "      <td>Alex Hales</td>\n",
       "      <td>6</td>\n",
       "      <td>6</td>\n",
       "      <td>0</td>\n",
       "      <td>148</td>\n",
       "      <td>45</td>\n",
       "      <td>24.66</td>\n",
       "      <td>118</td>\n",
       "      <td>125.42</td>\n",
       "      <td>0</td>\n",
       "      <td>0</td>\n",
       "      <td>0.0</td>\n",
       "      <td>0</td>\n",
       "      <td>0</td>\n",
       "      <td>0.00</td>\n",
       "      <td>0</td>\n",
       "      <td>0</td>\n",
       "    </tr>\n",
       "    <tr>\n",
       "      <th>...</th>\n",
       "      <td>...</td>\n",
       "      <td>...</td>\n",
       "      <td>...</td>\n",
       "      <td>...</td>\n",
       "      <td>...</td>\n",
       "      <td>...</td>\n",
       "      <td>...</td>\n",
       "      <td>...</td>\n",
       "      <td>...</td>\n",
       "      <td>...</td>\n",
       "      <td>...</td>\n",
       "      <td>...</td>\n",
       "      <td>...</td>\n",
       "      <td>...</td>\n",
       "      <td>...</td>\n",
       "      <td>...</td>\n",
       "      <td>...</td>\n",
       "    </tr>\n",
       "    <tr>\n",
       "      <th>138</th>\n",
       "      <td>Siddarth Kaul</td>\n",
       "      <td>0</td>\n",
       "      <td>0</td>\n",
       "      <td>0</td>\n",
       "      <td>0</td>\n",
       "      <td>0</td>\n",
       "      <td>0</td>\n",
       "      <td>0</td>\n",
       "      <td>0.00</td>\n",
       "      <td>0</td>\n",
       "      <td>0</td>\n",
       "      <td>66.0</td>\n",
       "      <td>547</td>\n",
       "      <td>21</td>\n",
       "      <td>8.28</td>\n",
       "      <td>0</td>\n",
       "      <td>0</td>\n",
       "    </tr>\n",
       "    <tr>\n",
       "      <th>139</th>\n",
       "      <td>Trent Boult</td>\n",
       "      <td>0</td>\n",
       "      <td>0</td>\n",
       "      <td>0</td>\n",
       "      <td>0</td>\n",
       "      <td>0</td>\n",
       "      <td>0</td>\n",
       "      <td>0</td>\n",
       "      <td>0.00</td>\n",
       "      <td>0</td>\n",
       "      <td>0</td>\n",
       "      <td>52.4</td>\n",
       "      <td>466</td>\n",
       "      <td>18</td>\n",
       "      <td>8.84</td>\n",
       "      <td>0</td>\n",
       "      <td>0</td>\n",
       "    </tr>\n",
       "    <tr>\n",
       "      <th>140</th>\n",
       "      <td>Umesh Yadav</td>\n",
       "      <td>0</td>\n",
       "      <td>0</td>\n",
       "      <td>0</td>\n",
       "      <td>0</td>\n",
       "      <td>0</td>\n",
       "      <td>0</td>\n",
       "      <td>0</td>\n",
       "      <td>0.00</td>\n",
       "      <td>0</td>\n",
       "      <td>0</td>\n",
       "      <td>53.1</td>\n",
       "      <td>418</td>\n",
       "      <td>20</td>\n",
       "      <td>7.86</td>\n",
       "      <td>0</td>\n",
       "      <td>0</td>\n",
       "    </tr>\n",
       "    <tr>\n",
       "      <th>141</th>\n",
       "      <td>Vi0y Kumar</td>\n",
       "      <td>0</td>\n",
       "      <td>0</td>\n",
       "      <td>0</td>\n",
       "      <td>0</td>\n",
       "      <td>0</td>\n",
       "      <td>0</td>\n",
       "      <td>0</td>\n",
       "      <td>0.00</td>\n",
       "      <td>0</td>\n",
       "      <td>0</td>\n",
       "      <td>3.5</td>\n",
       "      <td>65</td>\n",
       "      <td>2</td>\n",
       "      <td>16.95</td>\n",
       "      <td>0</td>\n",
       "      <td>0</td>\n",
       "    </tr>\n",
       "    <tr>\n",
       "      <th>142</th>\n",
       "      <td>Yuzvendra Chahal</td>\n",
       "      <td>0</td>\n",
       "      <td>0</td>\n",
       "      <td>0</td>\n",
       "      <td>0</td>\n",
       "      <td>0</td>\n",
       "      <td>0</td>\n",
       "      <td>0</td>\n",
       "      <td>0.00</td>\n",
       "      <td>0</td>\n",
       "      <td>0</td>\n",
       "      <td>50.0</td>\n",
       "      <td>363</td>\n",
       "      <td>12</td>\n",
       "      <td>7.26</td>\n",
       "      <td>0</td>\n",
       "      <td>0</td>\n",
       "    </tr>\n",
       "  </tbody>\n",
       "</table>\n",
       "<p>143 rows × 17 columns</p>\n",
       "</div>"
      ],
      "text/plain": [
       "               PLAYER  Mat.x  Inns.x  NO  Runs.x  HS  Avg.x   BF    SR.x  \\\n",
       "0         Aaron Finch     10       9   1     134  46  16.75  100  134.00   \n",
       "1      AB de Villiers     12      11   2     480  90  53.33  275  174.54   \n",
       "2     Abhishek Sharma      3       3   2      63  46     63   33  190.90   \n",
       "3      Ajinkya Rahane     15      14   1     370  65  28.46  313  118.21   \n",
       "4          Alex Hales      6       6   0     148  45  24.66  118  125.42   \n",
       "..                ...    ...     ...  ..     ...  ..    ...  ...     ...   \n",
       "138     Siddarth Kaul      0       0   0       0   0      0    0    0.00   \n",
       "139       Trent Boult      0       0   0       0   0      0    0    0.00   \n",
       "140       Umesh Yadav      0       0   0       0   0      0    0    0.00   \n",
       "141        Vi0y Kumar      0       0   0       0   0      0    0    0.00   \n",
       "142  Yuzvendra Chahal      0       0   0       0   0      0    0    0.00   \n",
       "\n",
       "     X100  X50    Ov  Runs.y  Wkts   Econ  X4w  X5w  \n",
       "0       0    0   0.0       0     0   0.00    0    0  \n",
       "1       0    6   0.0       0     0   0.00    0    0  \n",
       "2       0    0   0.0       0     0   0.00    0    0  \n",
       "3       0    1   0.0       0     0   0.00    0    0  \n",
       "4       0    0   0.0       0     0   0.00    0    0  \n",
       "..    ...  ...   ...     ...   ...    ...  ...  ...  \n",
       "138     0    0  66.0     547    21   8.28    0    0  \n",
       "139     0    0  52.4     466    18   8.84    0    0  \n",
       "140     0    0  53.1     418    20   7.86    0    0  \n",
       "141     0    0   3.5      65     2  16.95    0    0  \n",
       "142     0    0  50.0     363    12   7.26    0    0  \n",
       "\n",
       "[143 rows x 17 columns]"
      ]
     },
     "execution_count": 24,
     "metadata": {},
     "output_type": "execute_result"
    }
   ],
   "source": [
    "dataset1=pd.read_csv('total_data_na.csv')\n",
    "dataset1"
   ]
  },
  {
   "cell_type": "code",
   "execution_count": 27,
   "id": "20cb1ba1",
   "metadata": {},
   "outputs": [],
   "source": [
    "dataset1=dataset1.drop(['Runs.y','NO','HS','Avg.x','BF','SR.x','Ov','Wkts','Econ','X4w','X5w'],axis=1)"
   ]
  },
  {
   "cell_type": "code",
   "execution_count": 29,
   "id": "e0e264b8",
   "metadata": {},
   "outputs": [
    {
     "data": {
      "text/html": [
       "<div>\n",
       "<style scoped>\n",
       "    .dataframe tbody tr th:only-of-type {\n",
       "        vertical-align: middle;\n",
       "    }\n",
       "\n",
       "    .dataframe tbody tr th {\n",
       "        vertical-align: top;\n",
       "    }\n",
       "\n",
       "    .dataframe thead th {\n",
       "        text-align: right;\n",
       "    }\n",
       "</style>\n",
       "<table border=\"1\" class=\"dataframe\">\n",
       "  <thead>\n",
       "    <tr style=\"text-align: right;\">\n",
       "      <th></th>\n",
       "      <th>PLAYER</th>\n",
       "      <th>Mat.x</th>\n",
       "      <th>Inns.x</th>\n",
       "      <th>Runs.x</th>\n",
       "      <th>X100</th>\n",
       "      <th>X50</th>\n",
       "    </tr>\n",
       "  </thead>\n",
       "  <tbody>\n",
       "    <tr>\n",
       "      <th>0</th>\n",
       "      <td>Aaron Finch</td>\n",
       "      <td>10</td>\n",
       "      <td>9</td>\n",
       "      <td>134</td>\n",
       "      <td>0</td>\n",
       "      <td>0</td>\n",
       "    </tr>\n",
       "    <tr>\n",
       "      <th>1</th>\n",
       "      <td>AB de Villiers</td>\n",
       "      <td>12</td>\n",
       "      <td>11</td>\n",
       "      <td>480</td>\n",
       "      <td>0</td>\n",
       "      <td>6</td>\n",
       "    </tr>\n",
       "    <tr>\n",
       "      <th>2</th>\n",
       "      <td>Abhishek Sharma</td>\n",
       "      <td>3</td>\n",
       "      <td>3</td>\n",
       "      <td>63</td>\n",
       "      <td>0</td>\n",
       "      <td>0</td>\n",
       "    </tr>\n",
       "    <tr>\n",
       "      <th>3</th>\n",
       "      <td>Ajinkya Rahane</td>\n",
       "      <td>15</td>\n",
       "      <td>14</td>\n",
       "      <td>370</td>\n",
       "      <td>0</td>\n",
       "      <td>1</td>\n",
       "    </tr>\n",
       "    <tr>\n",
       "      <th>4</th>\n",
       "      <td>Alex Hales</td>\n",
       "      <td>6</td>\n",
       "      <td>6</td>\n",
       "      <td>148</td>\n",
       "      <td>0</td>\n",
       "      <td>0</td>\n",
       "    </tr>\n",
       "    <tr>\n",
       "      <th>...</th>\n",
       "      <td>...</td>\n",
       "      <td>...</td>\n",
       "      <td>...</td>\n",
       "      <td>...</td>\n",
       "      <td>...</td>\n",
       "      <td>...</td>\n",
       "    </tr>\n",
       "    <tr>\n",
       "      <th>138</th>\n",
       "      <td>Siddarth Kaul</td>\n",
       "      <td>0</td>\n",
       "      <td>0</td>\n",
       "      <td>0</td>\n",
       "      <td>0</td>\n",
       "      <td>0</td>\n",
       "    </tr>\n",
       "    <tr>\n",
       "      <th>139</th>\n",
       "      <td>Trent Boult</td>\n",
       "      <td>0</td>\n",
       "      <td>0</td>\n",
       "      <td>0</td>\n",
       "      <td>0</td>\n",
       "      <td>0</td>\n",
       "    </tr>\n",
       "    <tr>\n",
       "      <th>140</th>\n",
       "      <td>Umesh Yadav</td>\n",
       "      <td>0</td>\n",
       "      <td>0</td>\n",
       "      <td>0</td>\n",
       "      <td>0</td>\n",
       "      <td>0</td>\n",
       "    </tr>\n",
       "    <tr>\n",
       "      <th>141</th>\n",
       "      <td>Vi0y Kumar</td>\n",
       "      <td>0</td>\n",
       "      <td>0</td>\n",
       "      <td>0</td>\n",
       "      <td>0</td>\n",
       "      <td>0</td>\n",
       "    </tr>\n",
       "    <tr>\n",
       "      <th>142</th>\n",
       "      <td>Yuzvendra Chahal</td>\n",
       "      <td>0</td>\n",
       "      <td>0</td>\n",
       "      <td>0</td>\n",
       "      <td>0</td>\n",
       "      <td>0</td>\n",
       "    </tr>\n",
       "  </tbody>\n",
       "</table>\n",
       "<p>143 rows × 6 columns</p>\n",
       "</div>"
      ],
      "text/plain": [
       "               PLAYER  Mat.x  Inns.x  Runs.x  X100  X50\n",
       "0         Aaron Finch     10       9     134     0    0\n",
       "1      AB de Villiers     12      11     480     0    6\n",
       "2     Abhishek Sharma      3       3      63     0    0\n",
       "3      Ajinkya Rahane     15      14     370     0    1\n",
       "4          Alex Hales      6       6     148     0    0\n",
       "..                ...    ...     ...     ...   ...  ...\n",
       "138     Siddarth Kaul      0       0       0     0    0\n",
       "139       Trent Boult      0       0       0     0    0\n",
       "140       Umesh Yadav      0       0       0     0    0\n",
       "141        Vi0y Kumar      0       0       0     0    0\n",
       "142  Yuzvendra Chahal      0       0       0     0    0\n",
       "\n",
       "[143 rows x 6 columns]"
      ]
     },
     "execution_count": 29,
     "metadata": {},
     "output_type": "execute_result"
    }
   ],
   "source": [
    "dataset1 #batting"
   ]
  },
  {
   "cell_type": "code",
   "execution_count": 28,
   "id": "ec701d9d",
   "metadata": {},
   "outputs": [
    {
     "name": "stdout",
     "output_type": "stream",
     "text": [
      "<class 'pandas.core.frame.DataFrame'>\n",
      "RangeIndex: 143 entries, 0 to 142\n",
      "Data columns (total 6 columns):\n",
      " #   Column  Non-Null Count  Dtype \n",
      "---  ------  --------------  ----- \n",
      " 0   PLAYER  143 non-null    object\n",
      " 1   Mat.x   143 non-null    int64 \n",
      " 2   Inns.x  143 non-null    int64 \n",
      " 3   Runs.x  143 non-null    int64 \n",
      " 4   X100    143 non-null    int64 \n",
      " 5   X50     143 non-null    int64 \n",
      "dtypes: int64(5), object(1)\n",
      "memory usage: 6.8+ KB\n"
     ]
    }
   ],
   "source": [
    "dataset1.info()"
   ]
  },
  {
   "cell_type": "code",
   "execution_count": 30,
   "id": "ea7a1201",
   "metadata": {},
   "outputs": [
    {
     "data": {
      "text/html": [
       "<div>\n",
       "<style scoped>\n",
       "    .dataframe tbody tr th:only-of-type {\n",
       "        vertical-align: middle;\n",
       "    }\n",
       "\n",
       "    .dataframe tbody tr th {\n",
       "        vertical-align: top;\n",
       "    }\n",
       "\n",
       "    .dataframe thead th {\n",
       "        text-align: right;\n",
       "    }\n",
       "</style>\n",
       "<table border=\"1\" class=\"dataframe\">\n",
       "  <thead>\n",
       "    <tr style=\"text-align: right;\">\n",
       "      <th></th>\n",
       "      <th>Mat.x</th>\n",
       "      <th>Inns.x</th>\n",
       "      <th>Runs.x</th>\n",
       "      <th>X100</th>\n",
       "      <th>X50</th>\n",
       "    </tr>\n",
       "  </thead>\n",
       "  <tbody>\n",
       "    <tr>\n",
       "      <th>count</th>\n",
       "      <td>143.000000</td>\n",
       "      <td>143.000000</td>\n",
       "      <td>143.000000</td>\n",
       "      <td>143.000000</td>\n",
       "      <td>143.000000</td>\n",
       "    </tr>\n",
       "    <tr>\n",
       "      <th>mean</th>\n",
       "      <td>7.286713</td>\n",
       "      <td>6.013986</td>\n",
       "      <td>132.349650</td>\n",
       "      <td>0.034965</td>\n",
       "      <td>0.706294</td>\n",
       "    </tr>\n",
       "    <tr>\n",
       "      <th>std</th>\n",
       "      <td>6.077692</td>\n",
       "      <td>5.499022</td>\n",
       "      <td>175.482243</td>\n",
       "      <td>0.219236</td>\n",
       "      <td>1.447836</td>\n",
       "    </tr>\n",
       "    <tr>\n",
       "      <th>min</th>\n",
       "      <td>0.000000</td>\n",
       "      <td>0.000000</td>\n",
       "      <td>0.000000</td>\n",
       "      <td>0.000000</td>\n",
       "      <td>0.000000</td>\n",
       "    </tr>\n",
       "    <tr>\n",
       "      <th>25%</th>\n",
       "      <td>0.000000</td>\n",
       "      <td>0.000000</td>\n",
       "      <td>0.000000</td>\n",
       "      <td>0.000000</td>\n",
       "      <td>0.000000</td>\n",
       "    </tr>\n",
       "    <tr>\n",
       "      <th>50%</th>\n",
       "      <td>7.000000</td>\n",
       "      <td>5.000000</td>\n",
       "      <td>52.000000</td>\n",
       "      <td>0.000000</td>\n",
       "      <td>0.000000</td>\n",
       "    </tr>\n",
       "    <tr>\n",
       "      <th>75%</th>\n",
       "      <td>13.000000</td>\n",
       "      <td>11.000000</td>\n",
       "      <td>202.000000</td>\n",
       "      <td>0.000000</td>\n",
       "      <td>1.000000</td>\n",
       "    </tr>\n",
       "    <tr>\n",
       "      <th>max</th>\n",
       "      <td>17.000000</td>\n",
       "      <td>17.000000</td>\n",
       "      <td>735.000000</td>\n",
       "      <td>2.000000</td>\n",
       "      <td>8.000000</td>\n",
       "    </tr>\n",
       "  </tbody>\n",
       "</table>\n",
       "</div>"
      ],
      "text/plain": [
       "            Mat.x      Inns.x      Runs.x        X100         X50\n",
       "count  143.000000  143.000000  143.000000  143.000000  143.000000\n",
       "mean     7.286713    6.013986  132.349650    0.034965    0.706294\n",
       "std      6.077692    5.499022  175.482243    0.219236    1.447836\n",
       "min      0.000000    0.000000    0.000000    0.000000    0.000000\n",
       "25%      0.000000    0.000000    0.000000    0.000000    0.000000\n",
       "50%      7.000000    5.000000   52.000000    0.000000    0.000000\n",
       "75%     13.000000   11.000000  202.000000    0.000000    1.000000\n",
       "max     17.000000   17.000000  735.000000    2.000000    8.000000"
      ]
     },
     "execution_count": 30,
     "metadata": {},
     "output_type": "execute_result"
    }
   ],
   "source": [
    "dataset1.describe()"
   ]
  },
  {
   "cell_type": "code",
   "execution_count": 31,
   "id": "0d45d107",
   "metadata": {},
   "outputs": [
    {
     "data": {
      "text/plain": [
       "<seaborn.axisgrid.PairGrid at 0x7fac49ae4eb0>"
      ]
     },
     "execution_count": 31,
     "metadata": {},
     "output_type": "execute_result"
    },
    {
     "data": {
      "image/png": "[encoded data removed]",
      "text/plain": [
       "<Figure size 900x900 with 30 Axes>"
      ]
     },
     "metadata": {
      "needs_background": "light"
     },
     "output_type": "display_data"
    }
   ],
   "source": [
    "sns.pairplot(dataset1)"
   ]
  },
  {
   "cell_type": "code",
   "execution_count": 33,
   "id": "ae4d5aca",
   "metadata": {},
   "outputs": [
    {
     "data": {
      "text/plain": [
       "<AxesSubplot:>"
      ]
     },
     "execution_count": 33,
     "metadata": {},
     "output_type": "execute_result"
    },
    {
     "data": {
      "image/png": "[encoded data removed]",
      "text/plain": [
       "<Figure size 432x288 with 2 Axes>"
      ]
     },
     "metadata": {
      "needs_background": "light"
     },
     "output_type": "display_data"
    }
   ],
   "source": [
    "sns.heatmap(dataset1.corr(),annot=True)"
   ]
  },
  {
   "cell_type": "code",
   "execution_count": 34,
   "id": "6a80d648",
   "metadata": {},
   "outputs": [
    {
     "data": {
      "text/plain": [
       "<seaborn.axisgrid.FacetGrid at 0x7fac49ee8520>"
      ]
     },
     "execution_count": 34,
     "metadata": {},
     "output_type": "execute_result"
    },
    {
     "data": {
      "image/png": "[encoded data removed]",
      "text/plain": [
       "<Figure size 360x360 with 1 Axes>"
      ]
     },
     "metadata": {
      "needs_background": "light"
     },
     "output_type": "display_data"
    }
   ],
   "source": [
    "sns.displot(dataset1['Mat.x'])"
   ]
  },
  {
   "cell_type": "code",
   "execution_count": 37,
   "id": "8a029b9f",
   "metadata": {},
   "outputs": [
    {
     "data": {
      "text/plain": [
       "<seaborn.axisgrid.FacetGrid at 0x7fac28b52f40>"
      ]
     },
     "execution_count": 37,
     "metadata": {},
     "output_type": "execute_result"
    },
    {
     "data": {
      "image/png": "[encoded data removed]",
      "text/plain": [
       "<Figure size 360x360 with 1 Axes>"
      ]
     },
     "metadata": {
      "needs_background": "light"
     },
     "output_type": "display_data"
    }
   ],
   "source": [
    "sns.displot(dataset1['Inns.x'],color='red')"
   ]
  },
  {
   "cell_type": "code",
   "execution_count": 36,
   "id": "3832c2a4",
   "metadata": {},
   "outputs": [
    {
     "data": {
      "text/plain": [
       "<seaborn.axisgrid.JointGrid at 0x7fac4a0fce50>"
      ]
     },
     "execution_count": 36,
     "metadata": {},
     "output_type": "execute_result"
    },
    {
     "data": {
      "image/png": "[encoded data removed]",
      "text/plain": [
       "<Figure size 432x432 with 3 Axes>"
      ]
     },
     "metadata": {
      "needs_background": "light"
     },
     "output_type": "display_data"
    }
   ],
   "source": [
    "sns.jointplot(data=dataset1,x='Mat.x',y='Runs.x')"
   ]
  },
  {
   "cell_type": "code",
   "execution_count": 39,
   "id": "efbab08b",
   "metadata": {},
   "outputs": [
    {
     "data": {
      "text/plain": [
       "<seaborn.axisgrid.FacetGrid at 0x7fac28e63280>"
      ]
     },
     "execution_count": 39,
     "metadata": {},
     "output_type": "execute_result"
    },
    {
     "data": {
      "image/png": "[encoded data removed]",
      "text/plain": [
       "<Figure size 360x360 with 1 Axes>"
      ]
     },
     "metadata": {
      "needs_background": "light"
     },
     "output_type": "display_data"
    }
   ],
   "source": [
    "sns.displot(dataset1['X100'],kind='kde')"
   ]
  },
  {
   "cell_type": "code",
   "execution_count": 42,
   "id": "637e9999",
   "metadata": {},
   "outputs": [
    {
     "data": {
      "text/plain": [
       "<seaborn.axisgrid.FacetGrid at 0x7fac5992c100>"
      ]
     },
     "execution_count": 42,
     "metadata": {},
     "output_type": "execute_result"
    },
    {
     "data": {
      "image/png": "[encoded data removed]",
      "text/plain": [
       "<Figure size 360x360 with 1 Axes>"
      ]
     },
     "metadata": {
      "needs_background": "light"
     },
     "output_type": "display_data"
    }
   ],
   "source": [
    "sns.displot(dataset1['X50'],kind='kde',color='red')"
   ]
  },
  {
   "cell_type": "code",
   "execution_count": 46,
   "id": "b7e525da",
   "metadata": {},
   "outputs": [
    {
     "data": {
      "text/plain": [
       "<seaborn.axisgrid.FacetGrid at 0x7fac4a75c7c0>"
      ]
     },
     "execution_count": 46,
     "metadata": {},
     "output_type": "execute_result"
    },
    {
     "data": {
      "image/png": "[encoded data removed]",
      "text/plain": [
       "<Figure size 360x360 with 1 Axes>"
      ]
     },
     "metadata": {
      "needs_background": "light"
     },
     "output_type": "display_data"
    }
   ],
   "source": [
    "sns.lmplot(x='Mat.x',y='Runs.x',data=dataset1)"
   ]
  },
  {
   "cell_type": "code",
   "execution_count": 48,
   "id": "f436ff73",
   "metadata": {},
   "outputs": [
    {
     "data": {
      "text/html": [
       "<div>\n",
       "<style scoped>\n",
       "    .dataframe tbody tr th:only-of-type {\n",
       "        vertical-align: middle;\n",
       "    }\n",
       "\n",
       "    .dataframe tbody tr th {\n",
       "        vertical-align: top;\n",
       "    }\n",
       "\n",
       "    .dataframe thead th {\n",
       "        text-align: right;\n",
       "    }\n",
       "</style>\n",
       "<table border=\"1\" class=\"dataframe\">\n",
       "  <thead>\n",
       "    <tr style=\"text-align: right;\">\n",
       "      <th></th>\n",
       "      <th>PLAYER</th>\n",
       "      <th>Mat.x</th>\n",
       "      <th>Inns.x</th>\n",
       "      <th>Runs.x</th>\n",
       "      <th>X100</th>\n",
       "      <th>X50</th>\n",
       "    </tr>\n",
       "  </thead>\n",
       "  <tbody>\n",
       "    <tr>\n",
       "      <th>0</th>\n",
       "      <td>False</td>\n",
       "      <td>False</td>\n",
       "      <td>False</td>\n",
       "      <td>False</td>\n",
       "      <td>False</td>\n",
       "      <td>False</td>\n",
       "    </tr>\n",
       "    <tr>\n",
       "      <th>1</th>\n",
       "      <td>False</td>\n",
       "      <td>False</td>\n",
       "      <td>False</td>\n",
       "      <td>False</td>\n",
       "      <td>False</td>\n",
       "      <td>False</td>\n",
       "    </tr>\n",
       "    <tr>\n",
       "      <th>2</th>\n",
       "      <td>False</td>\n",
       "      <td>False</td>\n",
       "      <td>False</td>\n",
       "      <td>False</td>\n",
       "      <td>False</td>\n",
       "      <td>False</td>\n",
       "    </tr>\n",
       "    <tr>\n",
       "      <th>3</th>\n",
       "      <td>False</td>\n",
       "      <td>False</td>\n",
       "      <td>False</td>\n",
       "      <td>False</td>\n",
       "      <td>False</td>\n",
       "      <td>False</td>\n",
       "    </tr>\n",
       "    <tr>\n",
       "      <th>4</th>\n",
       "      <td>False</td>\n",
       "      <td>False</td>\n",
       "      <td>False</td>\n",
       "      <td>False</td>\n",
       "      <td>False</td>\n",
       "      <td>False</td>\n",
       "    </tr>\n",
       "    <tr>\n",
       "      <th>...</th>\n",
       "      <td>...</td>\n",
       "      <td>...</td>\n",
       "      <td>...</td>\n",
       "      <td>...</td>\n",
       "      <td>...</td>\n",
       "      <td>...</td>\n",
       "    </tr>\n",
       "    <tr>\n",
       "      <th>138</th>\n",
       "      <td>False</td>\n",
       "      <td>False</td>\n",
       "      <td>False</td>\n",
       "      <td>False</td>\n",
       "      <td>False</td>\n",
       "      <td>False</td>\n",
       "    </tr>\n",
       "    <tr>\n",
       "      <th>139</th>\n",
       "      <td>False</td>\n",
       "      <td>False</td>\n",
       "      <td>False</td>\n",
       "      <td>False</td>\n",
       "      <td>False</td>\n",
       "      <td>False</td>\n",
       "    </tr>\n",
       "    <tr>\n",
       "      <th>140</th>\n",
       "      <td>False</td>\n",
       "      <td>False</td>\n",
       "      <td>False</td>\n",
       "      <td>False</td>\n",
       "      <td>False</td>\n",
       "      <td>False</td>\n",
       "    </tr>\n",
       "    <tr>\n",
       "      <th>141</th>\n",
       "      <td>False</td>\n",
       "      <td>False</td>\n",
       "      <td>False</td>\n",
       "      <td>False</td>\n",
       "      <td>False</td>\n",
       "      <td>False</td>\n",
       "    </tr>\n",
       "    <tr>\n",
       "      <th>142</th>\n",
       "      <td>False</td>\n",
       "      <td>False</td>\n",
       "      <td>False</td>\n",
       "      <td>False</td>\n",
       "      <td>False</td>\n",
       "      <td>False</td>\n",
       "    </tr>\n",
       "  </tbody>\n",
       "</table>\n",
       "<p>143 rows × 6 columns</p>\n",
       "</div>"
      ],
      "text/plain": [
       "     PLAYER  Mat.x  Inns.x  Runs.x   X100    X50\n",
       "0     False  False   False   False  False  False\n",
       "1     False  False   False   False  False  False\n",
       "2     False  False   False   False  False  False\n",
       "3     False  False   False   False  False  False\n",
       "4     False  False   False   False  False  False\n",
       "..      ...    ...     ...     ...    ...    ...\n",
       "138   False  False   False   False  False  False\n",
       "139   False  False   False   False  False  False\n",
       "140   False  False   False   False  False  False\n",
       "141   False  False   False   False  False  False\n",
       "142   False  False   False   False  False  False\n",
       "\n",
       "[143 rows x 6 columns]"
      ]
     },
     "execution_count": 48,
     "metadata": {},
     "output_type": "execute_result"
    }
   ],
   "source": [
    "dataset1.isnull()"
   ]
  },
  {
   "cell_type": "code",
   "execution_count": 49,
   "id": "cd4f729a",
   "metadata": {},
   "outputs": [],
   "source": [
    "X=dataset1.drop(['PLAYER','Inns.x','X100','X50'],axis=1)"
   ]
  },
  {
   "cell_type": "code",
   "execution_count": 51,
   "id": "c8a863f1",
   "metadata": {},
   "outputs": [],
   "source": [
    "X=X.values"
   ]
  },
  {
   "cell_type": "code",
   "execution_count": 52,
   "id": "e0c8804f",
   "metadata": {},
   "outputs": [
    {
     "data": {
      "text/plain": [
       "array([[ 10, 134],\n",
       "       [ 12, 480],\n",
       "       [  3,  63],\n",
       "       [ 15, 370],\n",
       "       [  6, 148],\n",
       "       [ 16, 602],\n",
       "       [ 16, 316],\n",
       "       [ 14,  32],\n",
       "       [  9,  80],\n",
       "       [  9,  96],\n",
       "       [ 13, 196],\n",
       "       [ 12,  13],\n",
       "       [  6, 127],\n",
       "       [  4,  75],\n",
       "       [ 11, 368],\n",
       "       [ 16, 491],\n",
       "       [  4,  46],\n",
       "       [  5,  17],\n",
       "       [  9, 131],\n",
       "       [  5,  63],\n",
       "       [  3,  17],\n",
       "       [  7, 115],\n",
       "       [  4,  26],\n",
       "       [  3,  74],\n",
       "       [ 12,  50],\n",
       "       [  9,  87],\n",
       "       [ 16, 498],\n",
       "       [ 16, 141],\n",
       "       [ 13, 382],\n",
       "       [  6, 162],\n",
       "       [  6,  85],\n",
       "       [ 12, 169],\n",
       "       [ 13,  29],\n",
       "       [ 13, 260],\n",
       "       [  5,  60],\n",
       "       [  4,  57],\n",
       "       [ 14, 275],\n",
       "       [  5, 120],\n",
       "       [ 15,  49],\n",
       "       [ 10,  15],\n",
       "       [ 13, 548],\n",
       "       [  6,  36],\n",
       "       [ 17, 735],\n",
       "       [ 13, 301],\n",
       "       [  1,  24],\n",
       "       [  9, 133],\n",
       "       [ 15, 126],\n",
       "       [ 14, 228],\n",
       "       [ 14, 659],\n",
       "       [  2,  20],\n",
       "       [  4,  55],\n",
       "       [ 14, 252],\n",
       "       [ 15, 284],\n",
       "       [  5,  47],\n",
       "       [  7,  99],\n",
       "       [ 11, 120],\n",
       "       [ 14,  21],\n",
       "       [  6,  16],\n",
       "       [  5,  77],\n",
       "       [  2,  18],\n",
       "       [ 11,  25],\n",
       "       [ 16, 455],\n",
       "       [ 15, 304],\n",
       "       [  6, 153],\n",
       "       [ 15,  27],\n",
       "       [  9, 245],\n",
       "       [  8, 201],\n",
       "       [  8,  50],\n",
       "       [ 12, 226],\n",
       "       [ 17,  59],\n",
       "       [ 14, 102],\n",
       "       [ 16,  89],\n",
       "       [  4,  29],\n",
       "       [ 14, 684],\n",
       "       [ 16, 351],\n",
       "       [ 14, 286],\n",
       "       [ 10, 108],\n",
       "       [ 15, 441],\n",
       "       [  7,  51],\n",
       "       [ 17, 239],\n",
       "       [ 15, 555],\n",
       "       [ 13,  15],\n",
       "       [ 16, 497],\n",
       "       [  9,  13],\n",
       "       [  6,  52],\n",
       "       [ 11,  50],\n",
       "       [ 14, 411],\n",
       "       [ 13, 203],\n",
       "       [  7,  44],\n",
       "       [ 16, 357],\n",
       "       [ 15, 445],\n",
       "       [ 14, 512],\n",
       "       [  8,  52],\n",
       "       [  5,  23],\n",
       "       [ 13, 212],\n",
       "       [ 14, 530],\n",
       "       [  7,  65],\n",
       "       [ 11, 122],\n",
       "       [ 15, 260],\n",
       "       [  8,  65],\n",
       "       [  0,   0],\n",
       "       [  0,   0],\n",
       "       [  0,   0],\n",
       "       [  0,   0],\n",
       "       [  0,   0],\n",
       "       [  0,   0],\n",
       "       [  0,   0],\n",
       "       [  0,   0],\n",
       "       [  0,   0],\n",
       "       [  0,   0],\n",
       "       [  0,   0],\n",
       "       [  0,   0],\n",
       "       [  0,   0],\n",
       "       [  0,   0],\n",
       "       [  0,   0],\n",
       "       [  0,   0],\n",
       "       [  0,   0],\n",
       "       [  0,   0],\n",
       "       [  0,   0],\n",
       "       [  0,   0],\n",
       "       [  0,   0],\n",
       "       [  0,   0],\n",
       "       [  0,   0],\n",
       "       [  0,   0],\n",
       "       [  0,   0],\n",
       "       [  0,   0],\n",
       "       [  0,   0],\n",
       "       [  0,   0],\n",
       "       [  0,   0],\n",
       "       [  0,   0],\n",
       "       [  0,   0],\n",
       "       [  0,   0],\n",
       "       [  0,   0],\n",
       "       [  0,   0],\n",
       "       [  0,   0],\n",
       "       [  0,   0],\n",
       "       [  0,   0],\n",
       "       [  0,   0],\n",
       "       [  0,   0],\n",
       "       [  0,   0],\n",
       "       [  0,   0],\n",
       "       [  0,   0],\n",
       "       [  0,   0]])"
      ]
     },
     "execution_count": 52,
     "metadata": {},
     "output_type": "execute_result"
    }
   ],
   "source": [
    "X"
   ]
  },
  {
   "cell_type": "code",
   "execution_count": 57,
   "id": "b054f54f",
   "metadata": {},
   "outputs": [
    {
     "data": {
      "image/png": "[encoded data removed]",
      "text/plain": [
       "<Figure size 432x288 with 1 Axes>"
      ]
     },
     "metadata": {
      "needs_background": "light"
     },
     "output_type": "display_data"
    }
   ],
   "source": [
    "from sklearn.cluster import KMeans\n",
    "wcss=[]\n",
    "for i in range(1,11):\n",
    "    kmeans=KMeans(n_clusters=i,init='k-means++')\n",
    "    kmeans.fit(X)\n",
    "    wcss.append(kmeans.inertia_)\n",
    "plt.plot(range(1,11),wcss)\n",
    "plt.show()"
   ]
  },
  {
   "cell_type": "code",
   "execution_count": 58,
   "id": "081d51aa",
   "metadata": {},
   "outputs": [
    {
     "data": {
      "image/png": "[encoded data removed]",
      "text/plain": [
       "<Figure size 432x288 with 1 Axes>"
      ]
     },
     "metadata": {
      "needs_background": "light"
     },
     "output_type": "display_data"
    }
   ],
   "source": [
    "from sklearn.cluster import KMeans\n",
    "wcss=[]\n",
    "for i in range(1,5):\n",
    "    kmeans=KMeans(n_clusters=i,init='k-means++')\n",
    "    kmeans.fit(X)\n",
    "    wcss.append(kmeans.inertia_)\n",
    "plt.plot(range(1,5),wcss)\n",
    "plt.show()"
   ]
  },
  {
   "cell_type": "code",
   "execution_count": 59,
   "id": "7d577154",
   "metadata": {},
   "outputs": [],
   "source": [
    "kmeans=KMeans(n_clusters=3,init='k-means++')"
   ]
  },
  {
   "cell_type": "code",
   "execution_count": 60,
   "id": "bf35df47",
   "metadata": {},
   "outputs": [
    {
     "data": {
      "text/plain": [
       "KMeans(n_clusters=3)"
      ]
     },
     "execution_count": 60,
     "metadata": {},
     "output_type": "execute_result"
    }
   ],
   "source": [
    "kmeans.fit(X)"
   ]
  },
  {
   "cell_type": "code",
   "execution_count": 62,
   "id": "bb8ad46c",
   "metadata": {},
   "outputs": [],
   "source": [
    "y_pred=kmeans.predict(X)"
   ]
  },
  {
   "cell_type": "code",
   "execution_count": 63,
   "id": "2feff6a1",
   "metadata": {},
   "outputs": [
    {
     "data": {
      "text/plain": [
       "array([1, 0, 1, 2, 1, 0, 2, 1, 1, 1, 2, 1, 1, 1, 2, 0, 1, 1, 1, 1, 1, 1,\n",
       "       1, 1, 1, 1, 0, 1, 2, 2, 1, 2, 1, 2, 1, 1, 2, 1, 1, 1, 0, 1, 0, 2,\n",
       "       1, 1, 1, 2, 0, 1, 1, 2, 2, 1, 1, 1, 1, 1, 1, 1, 1, 0, 2, 2, 1, 2,\n",
       "       2, 1, 2, 1, 1, 1, 1, 0, 2, 2, 1, 0, 1, 2, 0, 1, 0, 1, 1, 1, 0, 2,\n",
       "       1, 2, 0, 0, 1, 1, 2, 0, 1, 1, 2, 1, 1, 1, 1, 1, 1, 1, 1, 1, 1, 1,\n",
       "       1, 1, 1, 1, 1, 1, 1, 1, 1, 1, 1, 1, 1, 1, 1, 1, 1, 1, 1, 1, 1, 1,\n",
       "       1, 1, 1, 1, 1, 1, 1, 1, 1, 1, 1], dtype=int32)"
      ]
     },
     "execution_count": 63,
     "metadata": {},
     "output_type": "execute_result"
    }
   ],
   "source": [
    "y_pred"
   ]
  },
  {
   "cell_type": "code",
   "execution_count": 69,
   "id": "ef793877",
   "metadata": {},
   "outputs": [
    {
     "data": {
      "image/png": "[encoded data removed]",
      "text/plain": [
       "<Figure size 432x288 with 1 Axes>"
      ]
     },
     "metadata": {
      "needs_background": "light"
     },
     "output_type": "display_data"
    }
   ],
   "source": [
    "plt.scatter(X[y_pred==0,0],X[y_pred==0,1],s=200,c='red',label='Cluster 1')\n",
    "plt.scatter(X[y_pred==1,0],X[y_pred==1,1],s=200,c='blue',label='Cluster 2')\n",
    "plt.scatter(X[y_pred==2,0],X[y_pred==2,1],s=200,c='pink',label='Cluster 3')\n",
    "plt.scatter(kmeans.cluster_centers_[:,0],kmeans.cluster_centers_[:,1],s=300,c='yellow',label='Centroids')\n",
    "plt.legend()\n",
    "plt.show()\n",
    "\n",
    "          "
   ]
  },
  {
   "cell_type": "code",
   "execution_count": 82,
   "id": "80ab2717",
   "metadata": {},
   "outputs": [
    {
     "name": "stdout",
     "output_type": "stream",
     "text": [
      "0.7032730726510861\n"
     ]
    }
   ],
   "source": [
    "from sklearn.metrics import silhouette_score\n",
    "print(silhouette_score(X, y_pred))"
   ]
  },
  {
   "cell_type": "code",
   "execution_count": 70,
   "id": "d5ea518b",
   "metadata": {},
   "outputs": [],
   "source": [
    "import scipy.cluster.hierarchy as sch"
   ]
  },
  {
   "cell_type": "code",
   "execution_count": 71,
   "id": "894867cd",
   "metadata": {},
   "outputs": [
    {
     "data": {
      "image/png": "[encoded data removed]",
      "text/plain": [
       "<Figure size 432x288 with 1 Axes>"
      ]
     },
     "metadata": {
      "needs_background": "light"
     },
     "output_type": "display_data"
    }
   ],
   "source": [
    "from scipy.cluster.hierarchy import dendrogram\n",
    "dendro=dendrogram(sch.linkage(X,method='ward'))"
   ]
  },
  {
   "cell_type": "code",
   "execution_count": 73,
   "id": "9f271355",
   "metadata": {},
   "outputs": [],
   "source": [
    "from sklearn.cluster import AgglomerativeClustering"
   ]
  },
  {
   "cell_type": "code",
   "execution_count": 74,
   "id": "c0952b1d",
   "metadata": {},
   "outputs": [],
   "source": [
    "agg=AgglomerativeClustering(n_clusters=3,affinity='euclidean')"
   ]
  },
  {
   "cell_type": "code",
   "execution_count": 75,
   "id": "8599e230",
   "metadata": {},
   "outputs": [
    {
     "data": {
      "text/plain": [
       "AgglomerativeClustering(n_clusters=3)"
      ]
     },
     "execution_count": 75,
     "metadata": {},
     "output_type": "execute_result"
    }
   ],
   "source": [
    "agg.fit(X)"
   ]
  },
  {
   "cell_type": "code",
   "execution_count": 77,
   "id": "ad6f494e",
   "metadata": {},
   "outputs": [],
   "source": [
    "y_pre=agg.fit_predict(X)"
   ]
  },
  {
   "cell_type": "code",
   "execution_count": 78,
   "id": "e3d3b1a9",
   "metadata": {},
   "outputs": [
    {
     "data": {
      "text/plain": [
       "array([0, 1, 0, 2, 0, 1, 2, 0, 0, 0, 2, 0, 0, 0, 2, 1, 0, 0, 0, 0, 0, 0,\n",
       "       0, 0, 0, 0, 1, 0, 2, 0, 0, 0, 0, 2, 0, 0, 2, 0, 0, 0, 1, 0, 1, 2,\n",
       "       0, 0, 0, 2, 1, 0, 0, 2, 2, 0, 0, 0, 0, 0, 0, 0, 0, 1, 2, 0, 0, 2,\n",
       "       2, 0, 2, 0, 0, 0, 0, 1, 2, 2, 0, 1, 0, 2, 1, 0, 1, 0, 0, 0, 1, 2,\n",
       "       0, 2, 1, 1, 0, 0, 2, 1, 0, 0, 2, 0, 0, 0, 0, 0, 0, 0, 0, 0, 0, 0,\n",
       "       0, 0, 0, 0, 0, 0, 0, 0, 0, 0, 0, 0, 0, 0, 0, 0, 0, 0, 0, 0, 0, 0,\n",
       "       0, 0, 0, 0, 0, 0, 0, 0, 0, 0, 0])"
      ]
     },
     "execution_count": 78,
     "metadata": {},
     "output_type": "execute_result"
    }
   ],
   "source": [
    "y_pre"
   ]
  },
  {
   "cell_type": "code",
   "execution_count": 79,
   "id": "c5b646b9",
   "metadata": {},
   "outputs": [
    {
     "data": {
      "image/png": "[encoded data removed]",
      "text/plain": [
       "<Figure size 432x288 with 1 Axes>"
      ]
     },
     "metadata": {
      "needs_background": "light"
     },
     "output_type": "display_data"
    }
   ],
   "source": [
    "plt.scatter(X[y_pre==0,0],X[y_pre==0,1],s=200,c='red',label='Cluster 1')\n",
    "plt.scatter(X[y_pre==1,0],X[y_pre==1,1],s=200,c='blue',label='Cluster 2')\n",
    "plt.scatter(X[y_pre==2,0],X[y_pre==2,1],s=200,c='pink',label='Cluster 3')\n",
    "plt.scatter(kmeans.cluster_centers_[:,0],kmeans.cluster_centers_[:,1],s=300,c='yellow',label='Centroids')\n",
    "plt.legend()\n",
    "plt.show()"
   ]
  },
  {
   "cell_type": "code",
   "execution_count": 83,
   "id": "ab1a84c9",
   "metadata": {},
   "outputs": [
    {
     "name": "stdout",
     "output_type": "stream",
     "text": [
      "0.7072107134255101\n"
     ]
    }
   ],
   "source": [
    "from sklearn.metrics import silhouette_score\n",
    "print(silhouette_score(X, y_pre))"
   ]
  },
  {
   "cell_type": "code",
   "execution_count": 85,
   "id": "9944f630",
   "metadata": {},
   "outputs": [
    {
     "data": {
      "text/html": [
       "<div>\n",
       "<style scoped>\n",
       "    .dataframe tbody tr th:only-of-type {\n",
       "        vertical-align: middle;\n",
       "    }\n",
       "\n",
       "    .dataframe tbody tr th {\n",
       "        vertical-align: top;\n",
       "    }\n",
       "\n",
       "    .dataframe thead th {\n",
       "        text-align: right;\n",
       "    }\n",
       "</style>\n",
       "<table border=\"1\" class=\"dataframe\">\n",
       "  <thead>\n",
       "    <tr style=\"text-align: right;\">\n",
       "      <th></th>\n",
       "      <th>PLAYER</th>\n",
       "      <th>Mat.x</th>\n",
       "      <th>Inns.x</th>\n",
       "      <th>NO</th>\n",
       "      <th>Runs.x</th>\n",
       "      <th>HS</th>\n",
       "      <th>Avg.x</th>\n",
       "      <th>BF</th>\n",
       "      <th>SR.x</th>\n",
       "      <th>X100</th>\n",
       "      <th>X50</th>\n",
       "      <th>Ov</th>\n",
       "      <th>Runs.y</th>\n",
       "      <th>Wkts</th>\n",
       "      <th>Econ</th>\n",
       "      <th>X4w</th>\n",
       "      <th>X5w</th>\n",
       "    </tr>\n",
       "  </thead>\n",
       "  <tbody>\n",
       "    <tr>\n",
       "      <th>0</th>\n",
       "      <td>Aaron Finch</td>\n",
       "      <td>10</td>\n",
       "      <td>9</td>\n",
       "      <td>1</td>\n",
       "      <td>134</td>\n",
       "      <td>46</td>\n",
       "      <td>16.75</td>\n",
       "      <td>100</td>\n",
       "      <td>134.00</td>\n",
       "      <td>0</td>\n",
       "      <td>0</td>\n",
       "      <td>0.0</td>\n",
       "      <td>0</td>\n",
       "      <td>0</td>\n",
       "      <td>0.00</td>\n",
       "      <td>0</td>\n",
       "      <td>0</td>\n",
       "    </tr>\n",
       "    <tr>\n",
       "      <th>1</th>\n",
       "      <td>AB de Villiers</td>\n",
       "      <td>12</td>\n",
       "      <td>11</td>\n",
       "      <td>2</td>\n",
       "      <td>480</td>\n",
       "      <td>90</td>\n",
       "      <td>53.33</td>\n",
       "      <td>275</td>\n",
       "      <td>174.54</td>\n",
       "      <td>0</td>\n",
       "      <td>6</td>\n",
       "      <td>0.0</td>\n",
       "      <td>0</td>\n",
       "      <td>0</td>\n",
       "      <td>0.00</td>\n",
       "      <td>0</td>\n",
       "      <td>0</td>\n",
       "    </tr>\n",
       "    <tr>\n",
       "      <th>2</th>\n",
       "      <td>Abhishek Sharma</td>\n",
       "      <td>3</td>\n",
       "      <td>3</td>\n",
       "      <td>2</td>\n",
       "      <td>63</td>\n",
       "      <td>46</td>\n",
       "      <td>63</td>\n",
       "      <td>33</td>\n",
       "      <td>190.90</td>\n",
       "      <td>0</td>\n",
       "      <td>0</td>\n",
       "      <td>0.0</td>\n",
       "      <td>0</td>\n",
       "      <td>0</td>\n",
       "      <td>0.00</td>\n",
       "      <td>0</td>\n",
       "      <td>0</td>\n",
       "    </tr>\n",
       "    <tr>\n",
       "      <th>3</th>\n",
       "      <td>Ajinkya Rahane</td>\n",
       "      <td>15</td>\n",
       "      <td>14</td>\n",
       "      <td>1</td>\n",
       "      <td>370</td>\n",
       "      <td>65</td>\n",
       "      <td>28.46</td>\n",
       "      <td>313</td>\n",
       "      <td>118.21</td>\n",
       "      <td>0</td>\n",
       "      <td>1</td>\n",
       "      <td>0.0</td>\n",
       "      <td>0</td>\n",
       "      <td>0</td>\n",
       "      <td>0.00</td>\n",
       "      <td>0</td>\n",
       "      <td>0</td>\n",
       "    </tr>\n",
       "    <tr>\n",
       "      <th>4</th>\n",
       "      <td>Alex Hales</td>\n",
       "      <td>6</td>\n",
       "      <td>6</td>\n",
       "      <td>0</td>\n",
       "      <td>148</td>\n",
       "      <td>45</td>\n",
       "      <td>24.66</td>\n",
       "      <td>118</td>\n",
       "      <td>125.42</td>\n",
       "      <td>0</td>\n",
       "      <td>0</td>\n",
       "      <td>0.0</td>\n",
       "      <td>0</td>\n",
       "      <td>0</td>\n",
       "      <td>0.00</td>\n",
       "      <td>0</td>\n",
       "      <td>0</td>\n",
       "    </tr>\n",
       "    <tr>\n",
       "      <th>...</th>\n",
       "      <td>...</td>\n",
       "      <td>...</td>\n",
       "      <td>...</td>\n",
       "      <td>...</td>\n",
       "      <td>...</td>\n",
       "      <td>...</td>\n",
       "      <td>...</td>\n",
       "      <td>...</td>\n",
       "      <td>...</td>\n",
       "      <td>...</td>\n",
       "      <td>...</td>\n",
       "      <td>...</td>\n",
       "      <td>...</td>\n",
       "      <td>...</td>\n",
       "      <td>...</td>\n",
       "      <td>...</td>\n",
       "      <td>...</td>\n",
       "    </tr>\n",
       "    <tr>\n",
       "      <th>138</th>\n",
       "      <td>Siddarth Kaul</td>\n",
       "      <td>0</td>\n",
       "      <td>0</td>\n",
       "      <td>0</td>\n",
       "      <td>0</td>\n",
       "      <td>0</td>\n",
       "      <td>0</td>\n",
       "      <td>0</td>\n",
       "      <td>0.00</td>\n",
       "      <td>0</td>\n",
       "      <td>0</td>\n",
       "      <td>66.0</td>\n",
       "      <td>547</td>\n",
       "      <td>21</td>\n",
       "      <td>8.28</td>\n",
       "      <td>0</td>\n",
       "      <td>0</td>\n",
       "    </tr>\n",
       "    <tr>\n",
       "      <th>139</th>\n",
       "      <td>Trent Boult</td>\n",
       "      <td>0</td>\n",
       "      <td>0</td>\n",
       "      <td>0</td>\n",
       "      <td>0</td>\n",
       "      <td>0</td>\n",
       "      <td>0</td>\n",
       "      <td>0</td>\n",
       "      <td>0.00</td>\n",
       "      <td>0</td>\n",
       "      <td>0</td>\n",
       "      <td>52.4</td>\n",
       "      <td>466</td>\n",
       "      <td>18</td>\n",
       "      <td>8.84</td>\n",
       "      <td>0</td>\n",
       "      <td>0</td>\n",
       "    </tr>\n",
       "    <tr>\n",
       "      <th>140</th>\n",
       "      <td>Umesh Yadav</td>\n",
       "      <td>0</td>\n",
       "      <td>0</td>\n",
       "      <td>0</td>\n",
       "      <td>0</td>\n",
       "      <td>0</td>\n",
       "      <td>0</td>\n",
       "      <td>0</td>\n",
       "      <td>0.00</td>\n",
       "      <td>0</td>\n",
       "      <td>0</td>\n",
       "      <td>53.1</td>\n",
       "      <td>418</td>\n",
       "      <td>20</td>\n",
       "      <td>7.86</td>\n",
       "      <td>0</td>\n",
       "      <td>0</td>\n",
       "    </tr>\n",
       "    <tr>\n",
       "      <th>141</th>\n",
       "      <td>Vi0y Kumar</td>\n",
       "      <td>0</td>\n",
       "      <td>0</td>\n",
       "      <td>0</td>\n",
       "      <td>0</td>\n",
       "      <td>0</td>\n",
       "      <td>0</td>\n",
       "      <td>0</td>\n",
       "      <td>0.00</td>\n",
       "      <td>0</td>\n",
       "      <td>0</td>\n",
       "      <td>3.5</td>\n",
       "      <td>65</td>\n",
       "      <td>2</td>\n",
       "      <td>16.95</td>\n",
       "      <td>0</td>\n",
       "      <td>0</td>\n",
       "    </tr>\n",
       "    <tr>\n",
       "      <th>142</th>\n",
       "      <td>Yuzvendra Chahal</td>\n",
       "      <td>0</td>\n",
       "      <td>0</td>\n",
       "      <td>0</td>\n",
       "      <td>0</td>\n",
       "      <td>0</td>\n",
       "      <td>0</td>\n",
       "      <td>0</td>\n",
       "      <td>0.00</td>\n",
       "      <td>0</td>\n",
       "      <td>0</td>\n",
       "      <td>50.0</td>\n",
       "      <td>363</td>\n",
       "      <td>12</td>\n",
       "      <td>7.26</td>\n",
       "      <td>0</td>\n",
       "      <td>0</td>\n",
       "    </tr>\n",
       "  </tbody>\n",
       "</table>\n",
       "<p>143 rows × 17 columns</p>\n",
       "</div>"
      ],
      "text/plain": [
       "               PLAYER  Mat.x  Inns.x  NO  Runs.x  HS  Avg.x   BF    SR.x  \\\n",
       "0         Aaron Finch     10       9   1     134  46  16.75  100  134.00   \n",
       "1      AB de Villiers     12      11   2     480  90  53.33  275  174.54   \n",
       "2     Abhishek Sharma      3       3   2      63  46     63   33  190.90   \n",
       "3      Ajinkya Rahane     15      14   1     370  65  28.46  313  118.21   \n",
       "4          Alex Hales      6       6   0     148  45  24.66  118  125.42   \n",
       "..                ...    ...     ...  ..     ...  ..    ...  ...     ...   \n",
       "138     Siddarth Kaul      0       0   0       0   0      0    0    0.00   \n",
       "139       Trent Boult      0       0   0       0   0      0    0    0.00   \n",
       "140       Umesh Yadav      0       0   0       0   0      0    0    0.00   \n",
       "141        Vi0y Kumar      0       0   0       0   0      0    0    0.00   \n",
       "142  Yuzvendra Chahal      0       0   0       0   0      0    0    0.00   \n",
       "\n",
       "     X100  X50    Ov  Runs.y  Wkts   Econ  X4w  X5w  \n",
       "0       0    0   0.0       0     0   0.00    0    0  \n",
       "1       0    6   0.0       0     0   0.00    0    0  \n",
       "2       0    0   0.0       0     0   0.00    0    0  \n",
       "3       0    1   0.0       0     0   0.00    0    0  \n",
       "4       0    0   0.0       0     0   0.00    0    0  \n",
       "..    ...  ...   ...     ...   ...    ...  ...  ...  \n",
       "138     0    0  66.0     547    21   8.28    0    0  \n",
       "139     0    0  52.4     466    18   8.84    0    0  \n",
       "140     0    0  53.1     418    20   7.86    0    0  \n",
       "141     0    0   3.5      65     2  16.95    0    0  \n",
       "142     0    0  50.0     363    12   7.26    0    0  \n",
       "\n",
       "[143 rows x 17 columns]"
      ]
     },
     "execution_count": 85,
     "metadata": {},
     "output_type": "execute_result"
    }
   ],
   "source": [
    "dataset"
   ]
  },
  {
   "cell_type": "code",
   "execution_count": 86,
   "id": "3ab615fc",
   "metadata": {},
   "outputs": [],
   "source": [
    "dataset2=dataset.drop(['Mat.x','Inns.x','NO','Avg.x','BF','SR.x','Runs.x','X100','X50','HS'],axis=1)"
   ]
  },
  {
   "cell_type": "code",
   "execution_count": 87,
   "id": "383cfef1",
   "metadata": {},
   "outputs": [
    {
     "data": {
      "text/html": [
       "<div>\n",
       "<style scoped>\n",
       "    .dataframe tbody tr th:only-of-type {\n",
       "        vertical-align: middle;\n",
       "    }\n",
       "\n",
       "    .dataframe tbody tr th {\n",
       "        vertical-align: top;\n",
       "    }\n",
       "\n",
       "    .dataframe thead th {\n",
       "        text-align: right;\n",
       "    }\n",
       "</style>\n",
       "<table border=\"1\" class=\"dataframe\">\n",
       "  <thead>\n",
       "    <tr style=\"text-align: right;\">\n",
       "      <th></th>\n",
       "      <th>PLAYER</th>\n",
       "      <th>Ov</th>\n",
       "      <th>Runs.y</th>\n",
       "      <th>Wkts</th>\n",
       "      <th>Econ</th>\n",
       "      <th>X4w</th>\n",
       "      <th>X5w</th>\n",
       "    </tr>\n",
       "  </thead>\n",
       "  <tbody>\n",
       "    <tr>\n",
       "      <th>0</th>\n",
       "      <td>Aaron Finch</td>\n",
       "      <td>0.0</td>\n",
       "      <td>0</td>\n",
       "      <td>0</td>\n",
       "      <td>0.00</td>\n",
       "      <td>0</td>\n",
       "      <td>0</td>\n",
       "    </tr>\n",
       "    <tr>\n",
       "      <th>1</th>\n",
       "      <td>AB de Villiers</td>\n",
       "      <td>0.0</td>\n",
       "      <td>0</td>\n",
       "      <td>0</td>\n",
       "      <td>0.00</td>\n",
       "      <td>0</td>\n",
       "      <td>0</td>\n",
       "    </tr>\n",
       "    <tr>\n",
       "      <th>2</th>\n",
       "      <td>Abhishek Sharma</td>\n",
       "      <td>0.0</td>\n",
       "      <td>0</td>\n",
       "      <td>0</td>\n",
       "      <td>0.00</td>\n",
       "      <td>0</td>\n",
       "      <td>0</td>\n",
       "    </tr>\n",
       "    <tr>\n",
       "      <th>3</th>\n",
       "      <td>Ajinkya Rahane</td>\n",
       "      <td>0.0</td>\n",
       "      <td>0</td>\n",
       "      <td>0</td>\n",
       "      <td>0.00</td>\n",
       "      <td>0</td>\n",
       "      <td>0</td>\n",
       "    </tr>\n",
       "    <tr>\n",
       "      <th>4</th>\n",
       "      <td>Alex Hales</td>\n",
       "      <td>0.0</td>\n",
       "      <td>0</td>\n",
       "      <td>0</td>\n",
       "      <td>0.00</td>\n",
       "      <td>0</td>\n",
       "      <td>0</td>\n",
       "    </tr>\n",
       "    <tr>\n",
       "      <th>...</th>\n",
       "      <td>...</td>\n",
       "      <td>...</td>\n",
       "      <td>...</td>\n",
       "      <td>...</td>\n",
       "      <td>...</td>\n",
       "      <td>...</td>\n",
       "      <td>...</td>\n",
       "    </tr>\n",
       "    <tr>\n",
       "      <th>138</th>\n",
       "      <td>Siddarth Kaul</td>\n",
       "      <td>66.0</td>\n",
       "      <td>547</td>\n",
       "      <td>21</td>\n",
       "      <td>8.28</td>\n",
       "      <td>0</td>\n",
       "      <td>0</td>\n",
       "    </tr>\n",
       "    <tr>\n",
       "      <th>139</th>\n",
       "      <td>Trent Boult</td>\n",
       "      <td>52.4</td>\n",
       "      <td>466</td>\n",
       "      <td>18</td>\n",
       "      <td>8.84</td>\n",
       "      <td>0</td>\n",
       "      <td>0</td>\n",
       "    </tr>\n",
       "    <tr>\n",
       "      <th>140</th>\n",
       "      <td>Umesh Yadav</td>\n",
       "      <td>53.1</td>\n",
       "      <td>418</td>\n",
       "      <td>20</td>\n",
       "      <td>7.86</td>\n",
       "      <td>0</td>\n",
       "      <td>0</td>\n",
       "    </tr>\n",
       "    <tr>\n",
       "      <th>141</th>\n",
       "      <td>Vi0y Kumar</td>\n",
       "      <td>3.5</td>\n",
       "      <td>65</td>\n",
       "      <td>2</td>\n",
       "      <td>16.95</td>\n",
       "      <td>0</td>\n",
       "      <td>0</td>\n",
       "    </tr>\n",
       "    <tr>\n",
       "      <th>142</th>\n",
       "      <td>Yuzvendra Chahal</td>\n",
       "      <td>50.0</td>\n",
       "      <td>363</td>\n",
       "      <td>12</td>\n",
       "      <td>7.26</td>\n",
       "      <td>0</td>\n",
       "      <td>0</td>\n",
       "    </tr>\n",
       "  </tbody>\n",
       "</table>\n",
       "<p>143 rows × 7 columns</p>\n",
       "</div>"
      ],
      "text/plain": [
       "               PLAYER    Ov  Runs.y  Wkts   Econ  X4w  X5w\n",
       "0         Aaron Finch   0.0       0     0   0.00    0    0\n",
       "1      AB de Villiers   0.0       0     0   0.00    0    0\n",
       "2     Abhishek Sharma   0.0       0     0   0.00    0    0\n",
       "3      Ajinkya Rahane   0.0       0     0   0.00    0    0\n",
       "4          Alex Hales   0.0       0     0   0.00    0    0\n",
       "..                ...   ...     ...   ...    ...  ...  ...\n",
       "138     Siddarth Kaul  66.0     547    21   8.28    0    0\n",
       "139       Trent Boult  52.4     466    18   8.84    0    0\n",
       "140       Umesh Yadav  53.1     418    20   7.86    0    0\n",
       "141        Vi0y Kumar   3.5      65     2  16.95    0    0\n",
       "142  Yuzvendra Chahal  50.0     363    12   7.26    0    0\n",
       "\n",
       "[143 rows x 7 columns]"
      ]
     },
     "execution_count": 87,
     "metadata": {},
     "output_type": "execute_result"
    }
   ],
   "source": [
    "dataset2 #bowling"
   ]
  },
  {
   "cell_type": "code",
   "execution_count": 88,
   "id": "fcfd4326",
   "metadata": {},
   "outputs": [
    {
     "name": "stdout",
     "output_type": "stream",
     "text": [
      "<class 'pandas.core.frame.DataFrame'>\n",
      "RangeIndex: 143 entries, 0 to 142\n",
      "Data columns (total 7 columns):\n",
      " #   Column  Non-Null Count  Dtype  \n",
      "---  ------  --------------  -----  \n",
      " 0   PLAYER  143 non-null    object \n",
      " 1   Ov      143 non-null    float64\n",
      " 2   Runs.y  143 non-null    int64  \n",
      " 3   Wkts    143 non-null    int64  \n",
      " 4   Econ    143 non-null    float64\n",
      " 5   X4w     143 non-null    int64  \n",
      " 6   X5w     143 non-null    int64  \n",
      "dtypes: float64(2), int64(4), object(1)\n",
      "memory usage: 7.9+ KB\n"
     ]
    }
   ],
   "source": [
    "dataset2.info()"
   ]
  },
  {
   "cell_type": "code",
   "execution_count": 89,
   "id": "01f5cfae",
   "metadata": {},
   "outputs": [
    {
     "data": {
      "text/html": [
       "<div>\n",
       "<style scoped>\n",
       "    .dataframe tbody tr th:only-of-type {\n",
       "        vertical-align: middle;\n",
       "    }\n",
       "\n",
       "    .dataframe tbody tr th {\n",
       "        vertical-align: top;\n",
       "    }\n",
       "\n",
       "    .dataframe thead th {\n",
       "        text-align: right;\n",
       "    }\n",
       "</style>\n",
       "<table border=\"1\" class=\"dataframe\">\n",
       "  <thead>\n",
       "    <tr style=\"text-align: right;\">\n",
       "      <th></th>\n",
       "      <th>Ov</th>\n",
       "      <th>Runs.y</th>\n",
       "      <th>Wkts</th>\n",
       "      <th>Econ</th>\n",
       "      <th>X4w</th>\n",
       "      <th>X5w</th>\n",
       "    </tr>\n",
       "  </thead>\n",
       "  <tbody>\n",
       "    <tr>\n",
       "      <th>count</th>\n",
       "      <td>143.000000</td>\n",
       "      <td>143.000000</td>\n",
       "      <td>143.000000</td>\n",
       "      <td>143.000000</td>\n",
       "      <td>143.000000</td>\n",
       "      <td>143.000000</td>\n",
       "    </tr>\n",
       "    <tr>\n",
       "      <th>mean</th>\n",
       "      <td>16.047552</td>\n",
       "      <td>137.230769</td>\n",
       "      <td>4.629371</td>\n",
       "      <td>6.158322</td>\n",
       "      <td>0.055944</td>\n",
       "      <td>0.006993</td>\n",
       "    </tr>\n",
       "    <tr>\n",
       "      <th>std</th>\n",
       "      <td>18.820205</td>\n",
       "      <td>153.662732</td>\n",
       "      <td>5.909742</td>\n",
       "      <td>4.679642</td>\n",
       "      <td>0.308933</td>\n",
       "      <td>0.083624</td>\n",
       "    </tr>\n",
       "    <tr>\n",
       "      <th>min</th>\n",
       "      <td>0.000000</td>\n",
       "      <td>0.000000</td>\n",
       "      <td>0.000000</td>\n",
       "      <td>0.000000</td>\n",
       "      <td>0.000000</td>\n",
       "      <td>0.000000</td>\n",
       "    </tr>\n",
       "    <tr>\n",
       "      <th>25%</th>\n",
       "      <td>0.000000</td>\n",
       "      <td>0.000000</td>\n",
       "      <td>0.000000</td>\n",
       "      <td>0.000000</td>\n",
       "      <td>0.000000</td>\n",
       "      <td>0.000000</td>\n",
       "    </tr>\n",
       "    <tr>\n",
       "      <th>50%</th>\n",
       "      <td>7.000000</td>\n",
       "      <td>82.000000</td>\n",
       "      <td>2.000000</td>\n",
       "      <td>7.860000</td>\n",
       "      <td>0.000000</td>\n",
       "      <td>0.000000</td>\n",
       "    </tr>\n",
       "    <tr>\n",
       "      <th>75%</th>\n",
       "      <td>28.000000</td>\n",
       "      <td>243.500000</td>\n",
       "      <td>7.500000</td>\n",
       "      <td>9.500000</td>\n",
       "      <td>0.000000</td>\n",
       "      <td>0.000000</td>\n",
       "    </tr>\n",
       "    <tr>\n",
       "      <th>max</th>\n",
       "      <td>68.000000</td>\n",
       "      <td>547.000000</td>\n",
       "      <td>24.000000</td>\n",
       "      <td>16.950000</td>\n",
       "      <td>3.000000</td>\n",
       "      <td>1.000000</td>\n",
       "    </tr>\n",
       "  </tbody>\n",
       "</table>\n",
       "</div>"
      ],
      "text/plain": [
       "               Ov      Runs.y        Wkts        Econ         X4w         X5w\n",
       "count  143.000000  143.000000  143.000000  143.000000  143.000000  143.000000\n",
       "mean    16.047552  137.230769    4.629371    6.158322    0.055944    0.006993\n",
       "std     18.820205  153.662732    5.909742    4.679642    0.308933    0.083624\n",
       "min      0.000000    0.000000    0.000000    0.000000    0.000000    0.000000\n",
       "25%      0.000000    0.000000    0.000000    0.000000    0.000000    0.000000\n",
       "50%      7.000000   82.000000    2.000000    7.860000    0.000000    0.000000\n",
       "75%     28.000000  243.500000    7.500000    9.500000    0.000000    0.000000\n",
       "max     68.000000  547.000000   24.000000   16.950000    3.000000    1.000000"
      ]
     },
     "execution_count": 89,
     "metadata": {},
     "output_type": "execute_result"
    }
   ],
   "source": [
    "dataset2.describe()"
   ]
  },
  {
   "cell_type": "code",
   "execution_count": 90,
   "id": "59b3387c",
   "metadata": {},
   "outputs": [
    {
     "data": {
      "text/plain": [
       "<seaborn.axisgrid.PairGrid at 0x7fac4e606670>"
      ]
     },
     "execution_count": 90,
     "metadata": {},
     "output_type": "execute_result"
    },
    {
     "data": {
      "image/png": "[encoded data removed]",
      "text/plain": [
       "<Figure size 1080x1080 with 42 Axes>"
      ]
     },
     "metadata": {
      "needs_background": "light"
     },
     "output_type": "display_data"
    }
   ],
   "source": [
    "sns.pairplot(dataset2)"
   ]
  },
  {
   "cell_type": "code",
   "execution_count": 92,
   "id": "bdd1e306",
   "metadata": {},
   "outputs": [
    {
     "data": {
      "text/plain": [
       "<AxesSubplot:>"
      ]
     },
     "execution_count": 92,
     "metadata": {},
     "output_type": "execute_result"
    },
    {
     "data": {
      "image/png": "[encoded data removed]",
      "text/plain": [
       "<Figure size 432x288 with 2 Axes>"
      ]
     },
     "metadata": {
      "needs_background": "light"
     },
     "output_type": "display_data"
    }
   ],
   "source": [
    "sns.heatmap(dataset2.corr(),annot=True)"
   ]
  },
  {
   "cell_type": "code",
   "execution_count": 93,
   "id": "8f62035c",
   "metadata": {},
   "outputs": [
    {
     "data": {
      "text/plain": [
       "<seaborn.axisgrid.FacetGrid at 0x7fac5a54aa00>"
      ]
     },
     "execution_count": 93,
     "metadata": {},
     "output_type": "execute_result"
    },
    {
     "data": {
      "image/png": "[encoded data removed]",
      "text/plain": [
       "<Figure size 360x360 with 1 Axes>"
      ]
     },
     "metadata": {
      "needs_background": "light"
     },
     "output_type": "display_data"
    }
   ],
   "source": [
    "sns.displot(dataset2['Wkts'])"
   ]
  },
  {
   "cell_type": "code",
   "execution_count": 94,
   "id": "e143c776",
   "metadata": {},
   "outputs": [
    {
     "data": {
      "text/plain": [
       "<seaborn.axisgrid.FacetGrid at 0x7fac5a5720d0>"
      ]
     },
     "execution_count": 94,
     "metadata": {},
     "output_type": "execute_result"
    },
    {
     "data": {
      "image/png": "[encoded data removed]",
      "text/plain": [
       "<Figure size 360x360 with 1 Axes>"
      ]
     },
     "metadata": {
      "needs_background": "light"
     },
     "output_type": "display_data"
    }
   ],
   "source": [
    "sns.displot(dataset2['Ov'],color='red')"
   ]
  },
  {
   "cell_type": "code",
   "execution_count": 96,
   "id": "abf818ea",
   "metadata": {},
   "outputs": [
    {
     "data": {
      "text/plain": [
       "<seaborn.axisgrid.JointGrid at 0x7fac5a209700>"
      ]
     },
     "execution_count": 96,
     "metadata": {},
     "output_type": "execute_result"
    },
    {
     "data": {
      "image/png": "[encoded data removed]",
      "text/plain": [
       "<Figure size 432x432 with 3 Axes>"
      ]
     },
     "metadata": {
      "needs_background": "light"
     },
     "output_type": "display_data"
    }
   ],
   "source": [
    "sns.jointplot(data=dataset2,x='Ov',y='Wkts',kind='hex')"
   ]
  },
  {
   "cell_type": "code",
   "execution_count": 97,
   "id": "cff2bd7c",
   "metadata": {},
   "outputs": [
    {
     "data": {
      "text/plain": [
       "<seaborn.axisgrid.FacetGrid at 0x7fac7e5834c0>"
      ]
     },
     "execution_count": 97,
     "metadata": {},
     "output_type": "execute_result"
    },
    {
     "data": {
      "image/png": "[encoded data removed]",
      "text/plain": [
       "<Figure size 360x360 with 1 Axes>"
      ]
     },
     "metadata": {
      "needs_background": "light"
     },
     "output_type": "display_data"
    }
   ],
   "source": [
    "sns.displot(dataset2['X4w'],kind='kde')"
   ]
  },
  {
   "cell_type": "code",
   "execution_count": 98,
   "id": "6316d088",
   "metadata": {},
   "outputs": [
    {
     "data": {
      "text/plain": [
       "<seaborn.axisgrid.FacetGrid at 0x7fac50d48d00>"
      ]
     },
     "execution_count": 98,
     "metadata": {},
     "output_type": "execute_result"
    },
    {
     "data": {
      "image/png": "[encoded data removed]",
      "text/plain": [
       "<Figure size 360x360 with 1 Axes>"
      ]
     },
     "metadata": {
      "needs_background": "light"
     },
     "output_type": "display_data"
    }
   ],
   "source": [
    "sns.displot(dataset2['X5w'],kind='kde',color='red')"
   ]
  },
  {
   "cell_type": "code",
   "execution_count": 99,
   "id": "46c6f2dd",
   "metadata": {},
   "outputs": [
    {
     "data": {
      "text/html": [
       "<div>\n",
       "<style scoped>\n",
       "    .dataframe tbody tr th:only-of-type {\n",
       "        vertical-align: middle;\n",
       "    }\n",
       "\n",
       "    .dataframe tbody tr th {\n",
       "        vertical-align: top;\n",
       "    }\n",
       "\n",
       "    .dataframe thead th {\n",
       "        text-align: right;\n",
       "    }\n",
       "</style>\n",
       "<table border=\"1\" class=\"dataframe\">\n",
       "  <thead>\n",
       "    <tr style=\"text-align: right;\">\n",
       "      <th></th>\n",
       "      <th>PLAYER</th>\n",
       "      <th>Ov</th>\n",
       "      <th>Runs.y</th>\n",
       "      <th>Wkts</th>\n",
       "      <th>Econ</th>\n",
       "      <th>X4w</th>\n",
       "      <th>X5w</th>\n",
       "    </tr>\n",
       "  </thead>\n",
       "  <tbody>\n",
       "    <tr>\n",
       "      <th>0</th>\n",
       "      <td>False</td>\n",
       "      <td>False</td>\n",
       "      <td>False</td>\n",
       "      <td>False</td>\n",
       "      <td>False</td>\n",
       "      <td>False</td>\n",
       "      <td>False</td>\n",
       "    </tr>\n",
       "    <tr>\n",
       "      <th>1</th>\n",
       "      <td>False</td>\n",
       "      <td>False</td>\n",
       "      <td>False</td>\n",
       "      <td>False</td>\n",
       "      <td>False</td>\n",
       "      <td>False</td>\n",
       "      <td>False</td>\n",
       "    </tr>\n",
       "    <tr>\n",
       "      <th>2</th>\n",
       "      <td>False</td>\n",
       "      <td>False</td>\n",
       "      <td>False</td>\n",
       "      <td>False</td>\n",
       "      <td>False</td>\n",
       "      <td>False</td>\n",
       "      <td>False</td>\n",
       "    </tr>\n",
       "    <tr>\n",
       "      <th>3</th>\n",
       "      <td>False</td>\n",
       "      <td>False</td>\n",
       "      <td>False</td>\n",
       "      <td>False</td>\n",
       "      <td>False</td>\n",
       "      <td>False</td>\n",
       "      <td>False</td>\n",
       "    </tr>\n",
       "    <tr>\n",
       "      <th>4</th>\n",
       "      <td>False</td>\n",
       "      <td>False</td>\n",
       "      <td>False</td>\n",
       "      <td>False</td>\n",
       "      <td>False</td>\n",
       "      <td>False</td>\n",
       "      <td>False</td>\n",
       "    </tr>\n",
       "    <tr>\n",
       "      <th>...</th>\n",
       "      <td>...</td>\n",
       "      <td>...</td>\n",
       "      <td>...</td>\n",
       "      <td>...</td>\n",
       "      <td>...</td>\n",
       "      <td>...</td>\n",
       "      <td>...</td>\n",
       "    </tr>\n",
       "    <tr>\n",
       "      <th>138</th>\n",
       "      <td>False</td>\n",
       "      <td>False</td>\n",
       "      <td>False</td>\n",
       "      <td>False</td>\n",
       "      <td>False</td>\n",
       "      <td>False</td>\n",
       "      <td>False</td>\n",
       "    </tr>\n",
       "    <tr>\n",
       "      <th>139</th>\n",
       "      <td>False</td>\n",
       "      <td>False</td>\n",
       "      <td>False</td>\n",
       "      <td>False</td>\n",
       "      <td>False</td>\n",
       "      <td>False</td>\n",
       "      <td>False</td>\n",
       "    </tr>\n",
       "    <tr>\n",
       "      <th>140</th>\n",
       "      <td>False</td>\n",
       "      <td>False</td>\n",
       "      <td>False</td>\n",
       "      <td>False</td>\n",
       "      <td>False</td>\n",
       "      <td>False</td>\n",
       "      <td>False</td>\n",
       "    </tr>\n",
       "    <tr>\n",
       "      <th>141</th>\n",
       "      <td>False</td>\n",
       "      <td>False</td>\n",
       "      <td>False</td>\n",
       "      <td>False</td>\n",
       "      <td>False</td>\n",
       "      <td>False</td>\n",
       "      <td>False</td>\n",
       "    </tr>\n",
       "    <tr>\n",
       "      <th>142</th>\n",
       "      <td>False</td>\n",
       "      <td>False</td>\n",
       "      <td>False</td>\n",
       "      <td>False</td>\n",
       "      <td>False</td>\n",
       "      <td>False</td>\n",
       "      <td>False</td>\n",
       "    </tr>\n",
       "  </tbody>\n",
       "</table>\n",
       "<p>143 rows × 7 columns</p>\n",
       "</div>"
      ],
      "text/plain": [
       "     PLAYER     Ov  Runs.y   Wkts   Econ    X4w    X5w\n",
       "0     False  False   False  False  False  False  False\n",
       "1     False  False   False  False  False  False  False\n",
       "2     False  False   False  False  False  False  False\n",
       "3     False  False   False  False  False  False  False\n",
       "4     False  False   False  False  False  False  False\n",
       "..      ...    ...     ...    ...    ...    ...    ...\n",
       "138   False  False   False  False  False  False  False\n",
       "139   False  False   False  False  False  False  False\n",
       "140   False  False   False  False  False  False  False\n",
       "141   False  False   False  False  False  False  False\n",
       "142   False  False   False  False  False  False  False\n",
       "\n",
       "[143 rows x 7 columns]"
      ]
     },
     "execution_count": 99,
     "metadata": {},
     "output_type": "execute_result"
    }
   ],
   "source": [
    "dataset2.isnull()"
   ]
  },
  {
   "cell_type": "code",
   "execution_count": 107,
   "id": "499f2dd4",
   "metadata": {},
   "outputs": [
    {
     "data": {
      "image/png": "[encoded data removed]",
      "text/plain": [
       "<Figure size 432x288 with 1 Axes>"
      ]
     },
     "metadata": {
      "needs_background": "light"
     },
     "output_type": "display_data"
    }
   ],
   "source": [
    "from sklearn.cluster import KMeans\n",
    "wcss=[]\n",
    "for i in range(1,5):\n",
    "    km=KMeans(n_clusters=i,init='k-means++')\n",
    "    km.fit(X)\n",
    "    wcss.append(km.inertia_)\n",
    "plt.plot(range(1,5),wcss,'g')\n",
    "plt.show()"
   ]
  },
  {
   "cell_type": "code",
   "execution_count": 102,
   "id": "628ccd5f",
   "metadata": {},
   "outputs": [],
   "source": [
    "km=KMeans(n_clusters=3,init='k-means++')"
   ]
  },
  {
   "cell_type": "code",
   "execution_count": 103,
   "id": "5372899a",
   "metadata": {},
   "outputs": [
    {
     "data": {
      "text/plain": [
       "KMeans(n_clusters=3)"
      ]
     },
     "execution_count": 103,
     "metadata": {},
     "output_type": "execute_result"
    }
   ],
   "source": [
    "km.fit(X)"
   ]
  },
  {
   "cell_type": "code",
   "execution_count": 105,
   "id": "05edea1c",
   "metadata": {},
   "outputs": [],
   "source": [
    "y_km=km.predict(X)"
   ]
  },
  {
   "cell_type": "code",
   "execution_count": 106,
   "id": "0d152669",
   "metadata": {},
   "outputs": [
    {
     "data": {
      "text/plain": [
       "array([0, 1, 0, 2, 0, 1, 2, 0, 0, 0, 2, 0, 0, 0, 2, 1, 0, 0, 0, 0, 0, 0,\n",
       "       0, 0, 0, 0, 1, 0, 2, 2, 0, 2, 0, 2, 0, 0, 2, 0, 0, 0, 1, 0, 1, 2,\n",
       "       0, 0, 0, 2, 1, 0, 0, 2, 2, 0, 0, 0, 0, 0, 0, 0, 0, 1, 2, 2, 0, 2,\n",
       "       2, 0, 2, 0, 0, 0, 0, 1, 2, 2, 0, 1, 0, 2, 1, 0, 1, 0, 0, 0, 1, 2,\n",
       "       0, 2, 1, 1, 0, 0, 2, 1, 0, 0, 2, 0, 0, 0, 0, 0, 0, 0, 0, 0, 0, 0,\n",
       "       0, 0, 0, 0, 0, 0, 0, 0, 0, 0, 0, 0, 0, 0, 0, 0, 0, 0, 0, 0, 0, 0,\n",
       "       0, 0, 0, 0, 0, 0, 0, 0, 0, 0, 0], dtype=int32)"
      ]
     },
     "execution_count": 106,
     "metadata": {},
     "output_type": "execute_result"
    }
   ],
   "source": [
    "y_km"
   ]
  },
  {
   "cell_type": "code",
   "execution_count": 108,
   "id": "ef775e43",
   "metadata": {},
   "outputs": [
    {
     "data": {
      "image/png": "[encoded data removed]",
      "text/plain": [
       "<Figure size 432x288 with 1 Axes>"
      ]
     },
     "metadata": {
      "needs_background": "light"
     },
     "output_type": "display_data"
    }
   ],
   "source": [
    "plt.scatter(X[y_km==0,0],X[y_km==0,1],s=200,c='red',label='Cluster1')\n",
    "plt.scatter(X[y_km==1,0],X[y_km==1,1],s=200,c='green',label='Cluster2')\n",
    "plt.scatter(X[y_km==2,0],X[y_km==2,1],s=200,c='cyan',label='Cluster3')\n",
    "plt.scatter(kmeans.cluster_centers_[:,0],kmeans.cluster_centers_[:,1],s=300,c='yellow',label='Centroid')\n",
    "plt.legend()\n",
    "plt.show()"
   ]
  },
  {
   "cell_type": "code",
   "execution_count": 109,
   "id": "db55fbd0",
   "metadata": {},
   "outputs": [
    {
     "name": "stdout",
     "output_type": "stream",
     "text": [
      "0.7032730726510861\n"
     ]
    }
   ],
   "source": [
    "from sklearn.metrics import silhouette_score\n",
    "print(silhouette_score(X, y_km))"
   ]
  },
  {
   "cell_type": "code",
   "execution_count": 111,
   "id": "8f428816",
   "metadata": {},
   "outputs": [],
   "source": [
    "import scipy.cluster.hierarchy as sch"
   ]
  },
  {
   "cell_type": "code",
   "execution_count": 112,
   "id": "873e6ac7",
   "metadata": {},
   "outputs": [],
   "source": [
    "from scipy.cluster.hierarchy import dendrogram"
   ]
  },
  {
   "cell_type": "code",
   "execution_count": 113,
   "id": "5c47d09d",
   "metadata": {},
   "outputs": [
    {
     "data": {
      "image/png": "[encoded data removed]",
      "text/plain": [
       "<Figure size 432x288 with 1 Axes>"
      ]
     },
     "metadata": {
      "needs_background": "light"
     },
     "output_type": "display_data"
    }
   ],
   "source": [
    "de=dendrogram(sch.linkage(X,method='ward'))"
   ]
  },
  {
   "cell_type": "code",
   "execution_count": 114,
   "id": "6d47083b",
   "metadata": {},
   "outputs": [],
   "source": [
    "from sklearn.cluster import AgglomerativeClustering"
   ]
  },
  {
   "cell_type": "code",
   "execution_count": 115,
   "id": "4aa37b7f",
   "metadata": {},
   "outputs": [],
   "source": [
    "ac=AgglomerativeClustering(n_clusters=3,affinity='euclidean')"
   ]
  },
  {
   "cell_type": "code",
   "execution_count": 116,
   "id": "eef9fb41",
   "metadata": {},
   "outputs": [
    {
     "data": {
      "text/plain": [
       "AgglomerativeClustering(n_clusters=3)"
      ]
     },
     "execution_count": 116,
     "metadata": {},
     "output_type": "execute_result"
    }
   ],
   "source": [
    "ac.fit(X)"
   ]
  },
  {
   "cell_type": "code",
   "execution_count": 118,
   "id": "d78cd819",
   "metadata": {},
   "outputs": [],
   "source": [
    "y_pr=ac.fit_predict(X)"
   ]
  },
  {
   "cell_type": "code",
   "execution_count": 119,
   "id": "bad624d9",
   "metadata": {},
   "outputs": [
    {
     "data": {
      "text/plain": [
       "array([0, 1, 0, 2, 0, 1, 2, 0, 0, 0, 2, 0, 0, 0, 2, 1, 0, 0, 0, 0, 0, 0,\n",
       "       0, 0, 0, 0, 1, 0, 2, 0, 0, 0, 0, 2, 0, 0, 2, 0, 0, 0, 1, 0, 1, 2,\n",
       "       0, 0, 0, 2, 1, 0, 0, 2, 2, 0, 0, 0, 0, 0, 0, 0, 0, 1, 2, 0, 0, 2,\n",
       "       2, 0, 2, 0, 0, 0, 0, 1, 2, 2, 0, 1, 0, 2, 1, 0, 1, 0, 0, 0, 1, 2,\n",
       "       0, 2, 1, 1, 0, 0, 2, 1, 0, 0, 2, 0, 0, 0, 0, 0, 0, 0, 0, 0, 0, 0,\n",
       "       0, 0, 0, 0, 0, 0, 0, 0, 0, 0, 0, 0, 0, 0, 0, 0, 0, 0, 0, 0, 0, 0,\n",
       "       0, 0, 0, 0, 0, 0, 0, 0, 0, 0, 0])"
      ]
     },
     "execution_count": 119,
     "metadata": {},
     "output_type": "execute_result"
    }
   ],
   "source": [
    "y_pr"
   ]
  },
  {
   "cell_type": "code",
   "execution_count": 120,
   "id": "bfe7f335",
   "metadata": {},
   "outputs": [
    {
     "data": {
      "image/png": "[encoded data removed]",
      "text/plain": [
       "<Figure size 432x288 with 1 Axes>"
      ]
     },
     "metadata": {
      "needs_background": "light"
     },
     "output_type": "display_data"
    }
   ],
   "source": [
    "plt.scatter(X[y_pr==0,0],X[y_pr==0,1],s=200,c='red',label='Cluster 1')\n",
    "plt.scatter(X[y_pr==1,0],X[y_pr==1,1],s=200,c='blue',label='Cluster 2')\n",
    "plt.scatter(X[y_pr==2,0],X[y_pr==2,1],s=200,c='pink',label='Cluster 3')\n",
    "plt.scatter(kmeans.cluster_centers_[:,0],kmeans.cluster_centers_[:,1],s=300,c='yellow',label='Centroids')\n",
    "plt.legend()\n",
    "plt.show()"
   ]
  },
  {
   "cell_type": "code",
   "execution_count": 122,
   "id": "4541aeef",
   "metadata": {},
   "outputs": [
    {
     "name": "stdout",
     "output_type": "stream",
     "text": [
      "0.7072107134255101\n"
     ]
    }
   ],
   "source": [
    "from sklearn.metrics import silhouette_score\n",
    "print(silhouette_score(X, y_pr))"
   ]
  },
  {
   "cell_type": "code",
   "execution_count": null,
   "id": "354e488a",
   "metadata": {},
   "outputs": [],
   "source": []
  }
 ],
 "metadata": {
  "kernelspec": {
   "display_name": "Python 3 (ipykernel)",
   "language": "python",
   "name": "python3"
  },
  "language_info": {
   "codemirror_mode": {
    "name": "ipython",
    "version": 3
   },
   "file_extension": ".py",
   "mimetype": "text/x-python",
   "name": "python",
   "nbconvert_exporter": "python",
   "pygments_lexer": "ipython3",
   "version": "3.9.12"
  }
 },
 "nbformat": 4,
 "nbformat_minor": 5
}
